{
 "cells": [
  {
   "cell_type": "raw",
   "id": "80d7a112",
   "metadata": {},
   "source": [
    "1. Represent the data in the given sheet into an appropriate NumPy array so that you can perform the following actions on it."
   ]
  },
  {
   "cell_type": "code",
   "execution_count": 110,
   "id": "74c22186",
   "metadata": {
    "collapsed": true
   },
   "outputs": [
    {
     "name": "stdout",
     "output_type": "stream",
     "text": [
      "[[[[  6  23]\n",
      "   [ 14  20]\n",
      "   [  6  27]\n",
      "   [ 14  22]\n",
      "   [  8  22]\n",
      "   [  6  32]\n",
      "   [ 14  29]]\n",
      "\n",
      "  [[  7  27]\n",
      "   [ 12  29]\n",
      "   [ 11  29]\n",
      "   [-13  23]\n",
      "   [ 15  28]\n",
      "   [ 15  20]\n",
      "   [  8  32]]\n",
      "\n",
      "  [[  5  21]\n",
      "   [ 12  18]\n",
      "   [ -1  12]\n",
      "   [ 12  20]\n",
      "   [ 25  29]\n",
      "   [ 17  22]\n",
      "   [ 12  19]]\n",
      "\n",
      "  [[ -2  15]\n",
      "   [  0  12]\n",
      "   [  2  18]\n",
      "   [ 13  24]\n",
      "   [ 10  16]\n",
      "   [ 12  18]\n",
      "   [  0  17]]]\n",
      "\n",
      "\n",
      " [[[  8  23]\n",
      "   [ 14  20]\n",
      "   [  6  27]\n",
      "   [ 14  22]\n",
      "   [  8  22]\n",
      "   [  6  32]\n",
      "   [ 14  29]]\n",
      "\n",
      "  [[  7  27]\n",
      "   [ 12  29]\n",
      "   [ 11  29]\n",
      "   [-15  23]\n",
      "   [ 15  31]\n",
      "   [ 15  30]\n",
      "   [  8  30]]\n",
      "\n",
      "  [[  5  21]\n",
      "   [ 12  18]\n",
      "   [-12  12]\n",
      "   [ 12  20]\n",
      "   [ 25  27]\n",
      "   [ 17  28]\n",
      "   [ 12  19]]\n",
      "\n",
      "  [[ -2  15]\n",
      "   [  0  12]\n",
      "   [  2  18]\n",
      "   [ 13  24]\n",
      "   [ 10  20]\n",
      "   [ 12  24]\n",
      "   [  0  17]]]\n",
      "\n",
      "\n",
      " [[[  9  23]\n",
      "   [ 14  20]\n",
      "   [  6  27]\n",
      "   [ 14  22]\n",
      "   [  8  22]\n",
      "   [  6  32]\n",
      "   [ 14  29]]\n",
      "\n",
      "  [[  7  27]\n",
      "   [ 12  29]\n",
      "   [ 11  29]\n",
      "   [ 15  23]\n",
      "   [-13  31]\n",
      "   [ 15  30]\n",
      "   [  8  30]]\n",
      "\n",
      "  [[  5  21]\n",
      "   [ 12  18]\n",
      "   [ -1  12]\n",
      "   [ 12  20]\n",
      "   [ 25  27]\n",
      "   [ 17  28]\n",
      "   [ 12  19]]\n",
      "\n",
      "  [[ -2  15]\n",
      "   [  0  12]\n",
      "   [  2  18]\n",
      "   [ 13  24]\n",
      "   [ 10  20]\n",
      "   [ 12  24]\n",
      "   [  0  17]]]\n",
      "\n",
      "\n",
      " [[[  6  23]\n",
      "   [ 14  20]\n",
      "   [  6  27]\n",
      "   [ 14  22]\n",
      "   [  8  22]\n",
      "   [  6  32]\n",
      "   [ 14  29]]\n",
      "\n",
      "  [[  7  27]\n",
      "   [ 12  29]\n",
      "   [ 11  29]\n",
      "   [-13  23]\n",
      "   [ 15  31]\n",
      "   [ 15  30]\n",
      "   [  8  30]]\n",
      "\n",
      "  [[  5  21]\n",
      "   [ 12  18]\n",
      "   [ -1  12]\n",
      "   [ 12  20]\n",
      "   [ 25  27]\n",
      "   [ 17  28]\n",
      "   [ 12  19]]\n",
      "\n",
      "  [[ -2  15]\n",
      "   [  0  12]\n",
      "   [  2  18]\n",
      "   [ 13  24]\n",
      "   [ 10  20]\n",
      "   [ 12  24]\n",
      "   [  0  17]]]]\n"
     ]
    }
   ],
   "source": [
    "import numpy as np\n",
    "\n",
    "# 4D array in the format of [month[week[day[min,max]]]]\n",
    "# Month in the order of Nov,Dec,Jan & Feb.\n",
    "# Weeks in the oreder of W1,W2,W3 & W4.\n",
    "# Days in the order of Mon,Tue,Wed,Thu,Fri,Sat & Sun\n",
    "\n",
    "temp=np.array([[[[6,23],[14,20],[6,27],[14,22],[8,22],[6,32],[14,29]],[[7,27],[12,29],[11,29],[-13,23],[15,28],[15,20],[8,32]],[[5,21],[12,18],[-1,12],[12,20],[25,29],[17,22],[12,19]],[[-2,15],[0,12],[2,18],[13,24],[10,16],[12,18],[0,17]]],[[[8,23],[14,20],[6,27],[14,22],[8,22],[6,32],[14,29]],[[7,27],[12,29],[11,29],[-15,23],[15,31],[15,30],[8,30]],[[5,21],[12,18],[-12,12],[12,20],[25,27],[17,28],[12,19]],[[-2,15],[0,12],[2,18],[13,24],[10,20],[12,24],[0,17]]],[[[9,23],[14,20],[6,27],[14,22],[8,22],[6,32],[14,29]],[[7,27],[12,29],[11,29],[15,23],[-13,31],[15,30],[8,30]],[[5,21],[12,18],[-1,12],[12,20],[25,27],[17,28],[12,19]],[[-2,15],[0,12],[2,18],[13,24],[10,20],[12,24],[0,17]]],[[[6,23],[14,20],[6,27],[14,22],[8,22],[6,32],[14,29]],[[7,27],[12,29],[11,29],[-13,23],[15,31],[15,30],[8,30]],[[5,21],[12,18],[-1,12],[12,20],[25,27],[17,28],[12,19]],[[-2,15],[0,12],[2,18],[13,24],[10,20],[12,24],[0,17]]]])\n",
    "\n",
    "month=['November','December','January','February']\n",
    "day=['Monday','Tuesday','Wednesday','Thursday','Friday','Saturday','Sunday']\n",
    "\n",
    "print(temp)"
   ]
  },
  {
   "cell_type": "raw",
   "id": "ed54c2ca",
   "metadata": {},
   "source": [
    "2. Write the dimensions and shape of the NumPy array that you have created. "
   ]
  },
  {
   "cell_type": "code",
   "execution_count": 174,
   "id": "2312f2f9",
   "metadata": {
    "collapsed": true
   },
   "outputs": [
    {
     "name": "stdout",
     "output_type": "stream",
     "text": [
      "Dimension: 4\n",
      "Shape: (4, 4, 7, 2)\n"
     ]
    }
   ],
   "source": [
    "print(f'Dimension: {temp.ndim}')\n",
    "print(f'Shape: {temp.shape}')"
   ]
  },
  {
   "cell_type": "raw",
   "id": "b8793d9a",
   "metadata": {},
   "source": [
    "3. Print the daily temperatures for the first week of each month."
   ]
  },
  {
   "cell_type": "code",
   "execution_count": 60,
   "id": "eed8bd56",
   "metadata": {
    "collapsed": true
   },
   "outputs": [
    {
     "name": "stdout",
     "output_type": "stream",
     "text": [
      "# In the format of [month[week 1[day[min,max]]]] :\n",
      "[[[ 6 23]\n",
      "  [14 20]\n",
      "  [ 6 27]\n",
      "  [14 22]\n",
      "  [ 8 22]\n",
      "  [ 6 32]\n",
      "  [14 29]]\n",
      "\n",
      " [[ 8 23]\n",
      "  [14 20]\n",
      "  [ 6 27]\n",
      "  [14 22]\n",
      "  [ 8 22]\n",
      "  [ 6 32]\n",
      "  [14 29]]\n",
      "\n",
      " [[ 9 23]\n",
      "  [14 20]\n",
      "  [ 6 27]\n",
      "  [14 22]\n",
      "  [ 8 22]\n",
      "  [ 6 32]\n",
      "  [14 29]]\n",
      "\n",
      " [[ 6 23]\n",
      "  [14 20]\n",
      "  [ 6 27]\n",
      "  [14 22]\n",
      "  [ 8 22]\n",
      "  [ 6 32]\n",
      "  [14 29]]]\n"
     ]
    }
   ],
   "source": [
    "print(f'# In the format of [month[week 1[day[min,max]]]] :\\n{temp[:,0,:]}')"
   ]
  },
  {
   "cell_type": "code",
   "execution_count": 175,
   "id": "67fc5ee3",
   "metadata": {
    "collapsed": true
   },
   "outputs": [
    {
     "name": "stdout",
     "output_type": "stream",
     "text": [
      "Day wise temperature:\n",
      "\tNovember / Week-1\n",
      "Monday\n",
      " *Min-6 ° C\n",
      " *Max- 23 ° C\n",
      "Tuesday\n",
      " *Min-14 ° C\n",
      " *Max- 20 ° C\n",
      "Wednesday\n",
      " *Min-6 ° C\n",
      " *Max- 27 ° C\n",
      "Thursday\n",
      " *Min-14 ° C\n",
      " *Max- 22 ° C\n",
      "Friday\n",
      " *Min-8 ° C\n",
      " *Max- 22 ° C\n",
      "Saturday\n",
      " *Min-6 ° C\n",
      " *Max- 32 ° C\n",
      "Sunday\n",
      " *Min-14 ° C\n",
      " *Max- 29 ° C\n",
      "\tDecember / Week-1\n",
      "Monday\n",
      " *Min-8 ° C\n",
      " *Max- 23 ° C\n",
      "Tuesday\n",
      " *Min-14 ° C\n",
      " *Max- 20 ° C\n",
      "Wednesday\n",
      " *Min-6 ° C\n",
      " *Max- 27 ° C\n",
      "Thursday\n",
      " *Min-14 ° C\n",
      " *Max- 22 ° C\n",
      "Friday\n",
      " *Min-8 ° C\n",
      " *Max- 22 ° C\n",
      "Saturday\n",
      " *Min-6 ° C\n",
      " *Max- 32 ° C\n",
      "Sunday\n",
      " *Min-14 ° C\n",
      " *Max- 29 ° C\n",
      "\tJanuary / Week-1\n",
      "Monday\n",
      " *Min-9 ° C\n",
      " *Max- 23 ° C\n",
      "Tuesday\n",
      " *Min-14 ° C\n",
      " *Max- 20 ° C\n",
      "Wednesday\n",
      " *Min-6 ° C\n",
      " *Max- 27 ° C\n",
      "Thursday\n",
      " *Min-14 ° C\n",
      " *Max- 22 ° C\n",
      "Friday\n",
      " *Min-8 ° C\n",
      " *Max- 22 ° C\n",
      "Saturday\n",
      " *Min-6 ° C\n",
      " *Max- 32 ° C\n",
      "Sunday\n",
      " *Min-14 ° C\n",
      " *Max- 29 ° C\n",
      "\tFebruary / Week-1\n",
      "Monday\n",
      " *Min-6 ° C\n",
      " *Max- 23 ° C\n",
      "Tuesday\n",
      " *Min-14 ° C\n",
      " *Max- 20 ° C\n",
      "Wednesday\n",
      " *Min-6 ° C\n",
      " *Max- 27 ° C\n",
      "Thursday\n",
      " *Min-14 ° C\n",
      " *Max- 22 ° C\n",
      "Friday\n",
      " *Min-8 ° C\n",
      " *Max- 22 ° C\n",
      "Saturday\n",
      " *Min-6 ° C\n",
      " *Max- 32 ° C\n",
      "Sunday\n",
      " *Min-14 ° C\n",
      " *Max- 29 ° C\n"
     ]
    }
   ],
   "source": [
    "print('Day wise temperature:')\n",
    "\n",
    "# Shape of temp is (4,4,7,2)\n",
    "for i in range(temp.shape[0]):   # iterate over Months\n",
    "    \n",
    "    j=0  # iterate over Weeks.here, only week-1 required\n",
    "    print(f'\\t{month[i]} / Week-1')\n",
    "    \n",
    "    for k in range(temp.shape[2]):   # iterate over Days\n",
    "        print(f'{day[k]}')\n",
    "       \n",
    "        # 'l' iterate over Temperature\n",
    "        l=0   # access min \n",
    "        print(f' *Min-{temp[i,j,k,l]}',chr(176),'C')\n",
    "        \n",
    "        l=l+1 # access max \n",
    "        print(' *Max-',temp[i,j,k,l],chr(176),'C')"
   ]
  },
  {
   "cell_type": "raw",
   "id": "ff0e6419",
   "metadata": {},
   "source": [
    "4. Print the temperatures for Tuesday of each month."
   ]
  },
  {
   "cell_type": "code",
   "execution_count": 61,
   "id": "7c865b9f",
   "metadata": {
    "collapsed": true
   },
   "outputs": [
    {
     "name": "stdout",
     "output_type": "stream",
     "text": [
      "# In the format of [month[week[tuesday[min,max]]]] :\n",
      "[[[14 20]\n",
      "  [12 29]\n",
      "  [12 18]\n",
      "  [ 0 12]]\n",
      "\n",
      " [[14 20]\n",
      "  [12 29]\n",
      "  [12 18]\n",
      "  [ 0 12]]\n",
      "\n",
      " [[14 20]\n",
      "  [12 29]\n",
      "  [12 18]\n",
      "  [ 0 12]]\n",
      "\n",
      " [[14 20]\n",
      "  [12 29]\n",
      "  [12 18]\n",
      "  [ 0 12]]]\n"
     ]
    }
   ],
   "source": [
    "print(f'# In the format of [month[week[tuesday[min,max]]]] :\\n{temp[:,:,1]}')"
   ]
  },
  {
   "cell_type": "code",
   "execution_count": 176,
   "id": "cb5a9a09",
   "metadata": {
    "collapsed": true
   },
   "outputs": [
    {
     "name": "stdout",
     "output_type": "stream",
     "text": [
      "Temperature of the day:\n",
      "\tNovember\n",
      "\tWeek-1\n",
      "Tuesday:\n",
      "Min-  14 ° C\n",
      "Max-  20 ° C\n",
      "\tWeek-2\n",
      "Tuesday:\n",
      "Min-  12 ° C\n",
      "Max-  29 ° C\n",
      "\tWeek-3\n",
      "Tuesday:\n",
      "Min-  12 ° C\n",
      "Max-  18 ° C\n",
      "\tWeek-4\n",
      "Tuesday:\n",
      "Min-  0 ° C\n",
      "Max-  12 ° C\n",
      "\tDecember\n",
      "\tWeek-1\n",
      "Tuesday:\n",
      "Min-  14 ° C\n",
      "Max-  20 ° C\n",
      "\tWeek-2\n",
      "Tuesday:\n",
      "Min-  12 ° C\n",
      "Max-  29 ° C\n",
      "\tWeek-3\n",
      "Tuesday:\n",
      "Min-  12 ° C\n",
      "Max-  18 ° C\n",
      "\tWeek-4\n",
      "Tuesday:\n",
      "Min-  0 ° C\n",
      "Max-  12 ° C\n",
      "\tJanuary\n",
      "\tWeek-1\n",
      "Tuesday:\n",
      "Min-  14 ° C\n",
      "Max-  20 ° C\n",
      "\tWeek-2\n",
      "Tuesday:\n",
      "Min-  12 ° C\n",
      "Max-  29 ° C\n",
      "\tWeek-3\n",
      "Tuesday:\n",
      "Min-  12 ° C\n",
      "Max-  18 ° C\n",
      "\tWeek-4\n",
      "Tuesday:\n",
      "Min-  0 ° C\n",
      "Max-  12 ° C\n",
      "\tFebruary\n",
      "\tWeek-1\n",
      "Tuesday:\n",
      "Min-  14 ° C\n",
      "Max-  20 ° C\n",
      "\tWeek-2\n",
      "Tuesday:\n",
      "Min-  12 ° C\n",
      "Max-  29 ° C\n",
      "\tWeek-3\n",
      "Tuesday:\n",
      "Min-  12 ° C\n",
      "Max-  18 ° C\n",
      "\tWeek-4\n",
      "Tuesday:\n",
      "Min-  0 ° C\n",
      "Max-  12 ° C\n"
     ]
    }
   ],
   "source": [
    "print('Temperature of the day:')\n",
    "\n",
    "# Shape of temp is (4,4,7,2)\n",
    "for i in range(temp.shape[0]): # iterate over Months\n",
    "    print(f'\\t{month[i]}')\n",
    "    \n",
    "    for j in range(temp.shape[1]): # iterate over Weeks\n",
    "        print(f'\\tWeek-{j+1}')\n",
    "        \n",
    "        k=1   # iterate over Days.Here,only Tuesday required.\n",
    "        print('Tuesday:')\n",
    "        \n",
    "        # 'l' iterate over Temperature\n",
    "        l=0   # access min\n",
    "        print('Min- ',temp[i,j,k,l],chr(176),'C')\n",
    "        \n",
    "        l=l+1  # access max\n",
    "        print('Max- ',temp[i,j,k,l],chr(176),'C')"
   ]
  },
  {
   "cell_type": "raw",
   "id": "e60fdbf3",
   "metadata": {},
   "source": [
    "5. Print only the maximum temperature for all the weekdays of Dec and Feb."
   ]
  },
  {
   "cell_type": "code",
   "execution_count": 62,
   "id": "da9c0939",
   "metadata": {
    "collapsed": true
   },
   "outputs": [
    {
     "name": "stdout",
     "output_type": "stream",
     "text": [
      "# In the format of [month[week[day wise max temp]]] :\n",
      "[[[23 20 27 22 22 32 29]\n",
      "  [27 29 29 23 31 30 30]\n",
      "  [21 18 12 20 27 28 19]\n",
      "  [15 12 18 24 20 24 17]]\n",
      "\n",
      " [[23 20 27 22 22 32 29]\n",
      "  [27 29 29 23 31 30 30]\n",
      "  [21 18 12 20 27 28 19]\n",
      "  [15 12 18 24 20 24 17]]]\n"
     ]
    }
   ],
   "source": [
    "print(f'# In the format of [month[week[day wise max temp]]] :\\n{temp[1:4:2,:,:,1]}')"
   ]
  },
  {
   "cell_type": "code",
   "execution_count": 79,
   "id": "264929fc",
   "metadata": {
    "collapsed": true
   },
   "outputs": [
    {
     "name": "stdout",
     "output_type": "stream",
     "text": [
      "Maximum temperature of the day:\n",
      "\tDecember\n",
      "\tWeek- 1\n",
      "Monday- 23 ° C\n",
      "Tuesday- 20 ° C\n",
      "Wednesday- 27 ° C\n",
      "Thursday- 22 ° C\n",
      "Friday- 22 ° C\n",
      "Saturday- 32 ° C\n",
      "Sunday- 29 ° C\n",
      "\tWeek- 2\n",
      "Monday- 27 ° C\n",
      "Tuesday- 29 ° C\n",
      "Wednesday- 29 ° C\n",
      "Thursday- 23 ° C\n",
      "Friday- 31 ° C\n",
      "Saturday- 30 ° C\n",
      "Sunday- 30 ° C\n",
      "\tWeek- 3\n",
      "Monday- 21 ° C\n",
      "Tuesday- 18 ° C\n",
      "Wednesday- 12 ° C\n",
      "Thursday- 20 ° C\n",
      "Friday- 27 ° C\n",
      "Saturday- 28 ° C\n",
      "Sunday- 19 ° C\n",
      "\tWeek- 4\n",
      "Monday- 15 ° C\n",
      "Tuesday- 12 ° C\n",
      "Wednesday- 18 ° C\n",
      "Thursday- 24 ° C\n",
      "Friday- 20 ° C\n",
      "Saturday- 24 ° C\n",
      "Sunday- 17 ° C\n",
      "\tFebruary\n",
      "\tWeek- 1\n",
      "Monday- 23 ° C\n",
      "Tuesday- 20 ° C\n",
      "Wednesday- 27 ° C\n",
      "Thursday- 22 ° C\n",
      "Friday- 22 ° C\n",
      "Saturday- 32 ° C\n",
      "Sunday- 29 ° C\n",
      "\tWeek- 2\n",
      "Monday- 27 ° C\n",
      "Tuesday- 29 ° C\n",
      "Wednesday- 29 ° C\n",
      "Thursday- 23 ° C\n",
      "Friday- 31 ° C\n",
      "Saturday- 30 ° C\n",
      "Sunday- 30 ° C\n",
      "\tWeek- 3\n",
      "Monday- 21 ° C\n",
      "Tuesday- 18 ° C\n",
      "Wednesday- 12 ° C\n",
      "Thursday- 20 ° C\n",
      "Friday- 27 ° C\n",
      "Saturday- 28 ° C\n",
      "Sunday- 19 ° C\n",
      "\tWeek- 4\n",
      "Monday- 15 ° C\n",
      "Tuesday- 12 ° C\n",
      "Wednesday- 18 ° C\n",
      "Thursday- 24 ° C\n",
      "Friday- 20 ° C\n",
      "Saturday- 24 ° C\n",
      "Sunday- 17 ° C\n"
     ]
    }
   ],
   "source": [
    "print('Maximum temperature of the day:')\n",
    "\n",
    "# Shape of temp is (4,4,7,2)\n",
    "for i in range(1,4,2): # iterate over Months.Need only Dec & Feb\n",
    "    print(f'\\t{month[i]}')\n",
    "    \n",
    "    for j in range(temp.shape[1]): # iterate over Weeks\n",
    "        print('\\tWeek-',j+1)\n",
    "        \n",
    "        for k in range(temp.shape[2]): # iterate over Days\n",
    "            # print max temperature  \n",
    "            print(f'{day[k]}-',temp[i,j,k,1],chr(176),'C')"
   ]
  },
  {
   "cell_type": "raw",
   "id": "ee718229",
   "metadata": {},
   "source": [
    "6. Print all the days along with the week number in November when the minimum temperature was less than 8 degrees"
   ]
  },
  {
   "cell_type": "code",
   "execution_count": 65,
   "id": "29145038",
   "metadata": {
    "collapsed": true
   },
   "outputs": [
    {
     "name": "stdout",
     "output_type": "stream",
     "text": [
      "# in the formate of [week,day]\n",
      "# wk1=0,wk2=1,wk3=2,wk4=3\n",
      "# mon=0,tue=1,wed=2,thus=3,fri=4,sat=5,sun=6\n",
      "[[0 0]\n",
      " [0 2]\n",
      " [0 5]\n",
      " [1 0]\n",
      " [1 3]\n",
      " [2 0]\n",
      " [2 2]\n",
      " [3 0]\n",
      " [3 1]\n",
      " [3 2]\n",
      " [3 6]]\n"
     ]
    }
   ],
   "source": [
    "print(f'# in the formate of [week,day]\\n# wk1=0,wk2=1,wk3=2,wk4=3\\n# mon=0,tue=1,wed=2,thus=3,fri=4,sat=5,sun=6\\n{np.argwhere(temp[0,:,:,0]<8)}')"
   ]
  },
  {
   "cell_type": "code",
   "execution_count": 228,
   "id": "c6f7f7f8",
   "metadata": {
    "collapsed": true
   },
   "outputs": [
    {
     "name": "stdout",
     "output_type": "stream",
     "text": [
      "Below 8 Degrees in November\n",
      "Week- 1 Monday\n",
      "Week- 1 Wednesday\n",
      "Week- 1 Saturday\n",
      "Week- 2 Monday\n",
      "Week- 2 Thursday\n",
      "Week- 3 Monday\n",
      "Week- 3 Wednesday\n",
      "Week- 4 Monday\n",
      "Week- 4 Tuesday\n",
      "Week- 4 Wednesday\n",
      "Week- 4 Sunday\n"
     ]
    }
   ],
   "source": [
    "print('Below 8 Degrees in November')\n",
    "\n",
    "# Shape of temp is (4,4,7,2)\n",
    "for j in range(temp.shape[1]): # iterate over Weeks\n",
    "    \n",
    "    for k in range(temp.shape[2]): # iterate over Days\n",
    "        \n",
    "        if temp[0,j,k,0]<8: # find the temperatures below 8 degrees\n",
    "           print(f'Week- {j+1} {day[k]}')"
   ]
  },
  {
   "cell_type": "raw",
   "id": "5306dab6",
   "metadata": {},
   "source": [
    "7. Print all the weeks in Dec and Jan where the maximum temperature has crossed a threshold of 20 degrees"
   ]
  },
  {
   "cell_type": "code",
   "execution_count": 69,
   "id": "4d883bb5",
   "metadata": {
    "collapsed": true
   },
   "outputs": [
    {
     "name": "stdout",
     "output_type": "stream",
     "text": [
      "Above 20 Degrees in Dec & Jan\n",
      "December Week-1\n",
      "December Week-2\n",
      "December Week-3\n",
      "December Week-4\n",
      "January Week-1\n",
      "January Week-2\n",
      "January Week-3\n",
      "January Week-4\n"
     ]
    }
   ],
   "source": [
    "print('Above 20 Degrees in Dec & Jan')\n",
    "\n",
    "for i in [1,2]: # iterate over Months.Need only Dec & Jan\n",
    "    \n",
    "     for j in range(4): # iterate over Weeks\n",
    "            \n",
    "            if np.any(temp[i,j]>20): # To find the temperatures above 20 deg\n",
    "                print(f'{month[i]} Week-{j+1}')"
   ]
  },
  {
   "cell_type": "raw",
   "id": "6d3ad70b",
   "metadata": {},
   "source": [
    "8. Check if there are any absurd values present in the dataset(like some temp which should not be present in the data)"
   ]
  },
  {
   "cell_type": "code",
   "execution_count": 180,
   "id": "3cd8629a",
   "metadata": {
    "collapsed": true
   },
   "outputs": [
    {
     "name": "stdout",
     "output_type": "stream",
     "text": [
      "Yes.Absurd value is present.\n"
     ]
    }
   ],
   "source": [
    "if np.any(temp<0) or np.any(temp>30): # Checking if there is any absurd value \n",
    "    print('Yes.Absurd value is present.')\n",
    "else:\n",
    "    print('No any absurd value.')"
   ]
  },
  {
   "cell_type": "raw",
   "id": "570a008d",
   "metadata": {},
   "source": [
    "9. What strategy would you use to handle such data points?"
   ]
  },
  {
   "cell_type": "raw",
   "id": "fe548dba",
   "metadata": {},
   "source": [
    "10. Find and print the indexes of all the outlier(unusual) values present in the above dataset."
   ]
  },
  {
   "cell_type": "code",
   "execution_count": 77,
   "id": "7bdc2082",
   "metadata": {
    "collapsed": true
   },
   "outputs": [
    {
     "name": "stdout",
     "output_type": "stream",
     "text": [
      "# in the format of [month,week,day,temp]\n",
      "# nov=0,dec=1,jan=2,feb=3\n",
      "# wk1=0,wk2=1,wk3=2,wk4=3\n",
      "# mon=0,tue=1,wed=2,thus=3,fri=4,sat=5,sun=6\\# nmin=0,max=1\n",
      "[[0 1 3 0]\n",
      " [0 2 2 0]\n",
      " [0 3 0 0]\n",
      " [1 1 3 0]\n",
      " [1 2 2 0]\n",
      " [1 3 0 0]\n",
      " [2 1 4 0]\n",
      " [2 2 2 0]\n",
      " [2 3 0 0]\n",
      " [3 1 3 0]\n",
      " [3 2 2 0]\n",
      " [3 3 0 0]] \n",
      " [[0 0 5 1]\n",
      " [0 1 6 1]\n",
      " [1 0 5 1]\n",
      " [1 1 4 1]\n",
      " [2 0 5 1]\n",
      " [2 1 4 1]\n",
      " [3 0 5 1]\n",
      " [3 1 4 1]]\n"
     ]
    }
   ],
   "source": [
    "print('# in the format of [month,week,day,temp]')\n",
    "print('# nov=0,dec=1,jan=2,feb=3\\n# wk1=0,wk2=1,wk3=2,wk4=3\\n# mon=0,tue=1,wed=2,thus=3,fri=4,sat=5,sun=6\\# nmin=0,max=1')\n",
    "print(np.argwhere(temp<0),'\\n',np.argwhere(temp>30))"
   ]
  },
  {
   "cell_type": "raw",
   "id": "839e15ab",
   "metadata": {},
   "source": [
    "11.Replace the outliers with an appropriate value."
   ]
  },
  {
   "cell_type": "code",
   "execution_count": 229,
   "id": "19566174",
   "metadata": {
    "collapsed": true
   },
   "outputs": [
    {
     "name": "stdout",
     "output_type": "stream",
     "text": [
      "25\n",
      "7\n",
      "26\n",
      "11\n",
      "5\n",
      "25\n",
      "7\n",
      "28\n",
      "10\n",
      "5\n",
      "25\n",
      "7\n",
      "28\n",
      "11\n",
      "5\n",
      "25\n",
      "7\n",
      "28\n",
      "11\n",
      "5\n"
     ]
    }
   ],
   "source": [
    "for i in range(temp.shape[0]): # iterate over Months\n",
    "    \n",
    "    for j in range(temp.shape[1]): # iterate over Weeks\n",
    "        \n",
    "        for k in range(temp.shape[2]): # iterate over Days\n",
    "            \n",
    "            if temp[i,j,k,0]<0: # find the min absurd temperatures which is below 0 deg\n",
    "                \n",
    "                temp[i,j,k,0]=np.mean(temp[i,j,:,0])\n",
    "                print(temp[i,j,k,0])\n",
    "            \n",
    "            if temp[i,j,k,1]>30: # find the max absurd temperatures which is above 30 deg\n",
    "                temp[i,j,k,1]=np.mean(temp[i,j,:,1])\n",
    "                print(temp[i,j,k,1])"
   ]
  },
  {
   "cell_type": "raw",
   "id": "2dea9d7b",
   "metadata": {},
   "source": [
    "12. Find the average max temperature for the winter months in Jaipur."
   ]
  },
  {
   "cell_type": "code",
   "execution_count": 183,
   "id": "88718953",
   "metadata": {
    "collapsed": true
   },
   "outputs": [
    {
     "name": "stdout",
     "output_type": "stream",
     "text": [
      "Average max temperature for the winter month: 23.18 ° c\n"
     ]
    }
   ],
   "source": [
    "for i in range(1,4): # winter months of jaipur- Dec,Jan & Feb\n",
    "   \n",
    "    mean=[] # To Store Weekly mean max temp  \n",
    "    a=np.mean(temp[i],axis=1) # compute mean weekly temp\n",
    "    b=np.mean(a,axis=0) # compute mean max temp\n",
    "    mean.append(b[1]) # Storing montly mean max temp\n",
    "print(f'Average max temperature for the winter month: {np.round(np.mean(mean),2)}',chr(176),'c')"
   ]
  },
  {
   "cell_type": "code",
   "execution_count": 35,
   "id": "d3183d84",
   "metadata": {
    "collapsed": true
   },
   "outputs": [
    {
     "name": "stdout",
     "output_type": "stream",
     "text": [
      "Average max temperature for the winter month: 23.18 ° c\n"
     ]
    }
   ],
   "source": [
    "a=np.mean(temp[1:4],axis=1) # calculate mean weekly temp \n",
    "b=np.mean(a,axis=1)\n",
    "c=np.mean(b,axis=0)\n",
    "print(f'Average max temperature for the winter month: {np.round(c[1],2)}',chr(176),'c')"
   ]
  },
  {
   "cell_type": "raw",
   "id": "5e27b225",
   "metadata": {},
   "source": [
    "13. Find the weekly min avg temp for the month of Dec in Jaipur"
   ]
  },
  {
   "cell_type": "code",
   "execution_count": 230,
   "id": "d13b272c",
   "metadata": {
    "collapsed": true
   },
   "outputs": [
    {
     "name": "stdout",
     "output_type": "stream",
     "text": [
      "Average minimum temperatures for December:\n",
      "Week 1- 10.0 ° C\n",
      "Week 2- 10.7 ° C\n",
      "Week 3- 13.3 ° C\n",
      "Week 4- 6.0 ° C\n"
     ]
    }
   ],
   "source": [
    "a = [] # To store Weekly average minimum temperatures \n",
    "  \n",
    "print('Average minimum temperatures for December:')\n",
    "\n",
    "for i in range(temp.shape[1]):# iterate over weeks\n",
    "    b=np.mean(temp[1,i],axis=0) # December is the second month\n",
    "    print(f'Week {i+1}- {np.round(b[0],1)}',chr(176),'C')"
   ]
  },
  {
   "cell_type": "code",
   "execution_count": 185,
   "id": "56ac1280",
   "metadata": {
    "collapsed": true
   },
   "outputs": [
    {
     "name": "stdout",
     "output_type": "stream",
     "text": [
      "[10.  11.9 13.6  5.6]\n"
     ]
    }
   ],
   "source": [
    "b=np.mean(temp[1],axis=1)\n",
    "c=b.reshape(8)\n",
    "print(np.round(c[:8:2],1))"
   ]
  },
  {
   "cell_type": "raw",
   "id": "38c6200b",
   "metadata": {},
   "source": [
    "14. Find the overall avg temp for the months Dec and Jan"
   ]
  },
  {
   "cell_type": "code",
   "execution_count": 187,
   "id": "985f11b7",
   "metadata": {},
   "outputs": [
    {
     "name": "stdout",
     "output_type": "stream",
     "text": [
      "Overall avg temp for the months Dec & Jan: 16.61 ° C\n"
     ]
    }
   ],
   "source": [
    "# Temperature data for December and January\n",
    "# Compute the mean temperature\n",
    "print(f'Overall avg temp for the months Dec & Jan: {np.round(np.mean(temp[1:3]),2)}',chr(176),'C')"
   ]
  },
  {
   "cell_type": "raw",
   "id": "b2ce310d",
   "metadata": {},
   "source": [
    "15. Find the least temp experienced by the city in the month of Dec and Jan. Also print the exact date( Day/Week/Month) for the same."
   ]
  },
  {
   "cell_type": "code",
   "execution_count": 197,
   "id": "ff139261",
   "metadata": {
    "collapsed": true
   },
   "outputs": [
    {
     "name": "stdout",
     "output_type": "stream",
     "text": [
      "Least temperature in December- -15 ° C\n",
      "Thursday/Week-2/December\n",
      "Least temperature in January- -13 ° C\n",
      "Friday/Week-2/January\n"
     ]
    }
   ],
   "source": [
    "for i in range(1,3): # iterate over Dec & Jan \n",
    "    print(f'Least temperature in {month[i]}- {np.min(temp[i])}',chr(176),'C')\n",
    "    \n",
    "    min_temp=np.min(temp[i]) # Finding min temp\n",
    "    frmt=np.argwhere(temp[i] == min_temp) # indexing min temp\n",
    "    \n",
    "    print(f'{day[frmt[0,1]]}/Week-{frmt[0,0]+1}/{month[i]}') #frmt[week,day,temp]"
   ]
  },
  {
   "cell_type": "raw",
   "id": "0ad7c570",
   "metadata": {},
   "source": [
    "16. Find the max temp in the month of Feb and return its date(Day/Week/Month)"
   ]
  },
  {
   "cell_type": "code",
   "execution_count": 195,
   "id": "34cfcee6",
   "metadata": {
    "collapsed": true
   },
   "outputs": [
    {
     "name": "stdout",
     "output_type": "stream",
     "text": [
      "Max temperature in Feb - 32 ° C\n",
      "Saturday/Week-1/Feb\n"
     ]
    }
   ],
   "source": [
    "print(f'Max temperature in Feb - {np.max(temp[3])}',chr(176),'C') #Feb is the fourth month\n",
    "\n",
    "max_temp=np.max(temp[3]) # Finding max temp\n",
    "frmt=np.argwhere(temp[3] == max_temp) # indexing max temp \n",
    "\n",
    "print(f'{day[frmt[0,1]]}/Week-{frmt[0,0]+1}/Feb') #frmt[week,day,temp]"
   ]
  },
  {
   "cell_type": "raw",
   "id": "0649ddf2",
   "metadata": {},
   "source": [
    "17. Find the days in the month of Nov where the max temp of the day dropped below the avg temp of the month."
   ]
  },
  {
   "cell_type": "code",
   "execution_count": 222,
   "id": "5733fc47",
   "metadata": {
    "collapsed": true
   },
   "outputs": [
    {
     "name": "stdout",
     "output_type": "stream",
     "text": [
      "Week-3 Wednesday\n",
      "Week-4 Monday\n",
      "Week-4 Tuesday\n"
     ]
    }
   ],
   "source": [
    "loc=np.argwhere((temp[0,:,:,1])<(np.mean(temp[0])))\n",
    "for i in range(loc.shape[0]):\n",
    "    print(f'Week-{loc[i,0]+1} {day[loc[i,1]]}')"
   ]
  },
  {
   "cell_type": "raw",
   "id": "5e8bdd0d",
   "metadata": {},
   "source": [
    "18. Convert the above dataset into an array where the weeks of the same month must be present in the same row, but belonging to different months should come in a row either below or above the selected month."
   ]
  },
  {
   "cell_type": "code",
   "execution_count": 253,
   "id": "885bb18c",
   "metadata": {
    "collapsed": true
   },
   "outputs": [
    {
     "name": "stdout",
     "output_type": "stream",
     "text": [
      "[[  6  23  14  20   6  27  14  22   8  22   6  32  14  29   7  27  12  29\n",
      "   11  29 -13  23  15  28  15  20   8  32   5  21  12  18  -1  12  12  20\n",
      "   25  29  17  22  12  19  -2  15   0  12   2  18  13  24  10  16  12  18\n",
      "    0  17]\n",
      " [  8  23  14  20   6  27  14  22   8  22   6  32  14  29   7  27  12  29\n",
      "   11  29 -15  23  15  31  15  30   8  30   5  21  12  18 -12  12  12  20\n",
      "   25  27  17  28  12  19  -2  15   0  12   2  18  13  24  10  20  12  24\n",
      "    0  17]\n",
      " [  9  23  14  20   6  27  14  22   8  22   6  32  14  29   7  27  12  29\n",
      "   11  29  15  23 -13  31  15  30   8  30   5  21  12  18  -1  12  12  20\n",
      "   25  27  17  28  12  19  -2  15   0  12   2  18  13  24  10  20  12  24\n",
      "    0  17]\n",
      " [  6  23  14  20   6  27  14  22   8  22   6  32  14  29   7  27  12  29\n",
      "   11  29 -13  23  15  31  15  30   8  30   5  21  12  18  -1  12  12  20\n",
      "   25  27  17  28  12  19  -2  15   0  12   2  18  13  24  10  20  12  24\n",
      "    0  17]]\n"
     ]
    }
   ],
   "source": [
    "# total 4 months & each month has 4 weeks & each week has 56 temp values \n",
    "# reshape the array to shape (4,56) \n",
    "print(temp.reshape(4,56))"
   ]
  },
  {
   "cell_type": "raw",
   "id": "d949d565",
   "metadata": {},
   "source": [
    "19. The above data is appropriate for an audience who follow the metricsystem of measurement. Create an array that holds the same data but presented in Fahrenheit."
   ]
  },
  {
   "cell_type": "code",
   "execution_count": 21,
   "id": "2198dd7a",
   "metadata": {
    "collapsed": true
   },
   "outputs": [
    {
     "name": "stdout",
     "output_type": "stream",
     "text": [
      "Temp data in Fahrenheit:\n",
      "[[[[42.8 73.4]\n",
      "   [57.2 68. ]\n",
      "   [42.8 80.6]\n",
      "   [57.2 71.6]\n",
      "   [46.4 71.6]\n",
      "   [42.8 89.6]\n",
      "   [57.2 84.2]]\n",
      "\n",
      "  [[44.6 80.6]\n",
      "   [53.6 84.2]\n",
      "   [51.8 84.2]\n",
      "   [ 8.6 73.4]\n",
      "   [59.  82.4]\n",
      "   [59.  68. ]\n",
      "   [46.4 89.6]]\n",
      "\n",
      "  [[41.  69.8]\n",
      "   [53.6 64.4]\n",
      "   [30.2 53.6]\n",
      "   [53.6 68. ]\n",
      "   [77.  84.2]\n",
      "   [62.6 71.6]\n",
      "   [53.6 66.2]]\n",
      "\n",
      "  [[28.4 59. ]\n",
      "   [32.  53.6]\n",
      "   [35.6 64.4]\n",
      "   [55.4 75.2]\n",
      "   [50.  60.8]\n",
      "   [53.6 64.4]\n",
      "   [32.  62.6]]]\n",
      "\n",
      "\n",
      " [[[46.4 73.4]\n",
      "   [57.2 68. ]\n",
      "   [42.8 80.6]\n",
      "   [57.2 71.6]\n",
      "   [46.4 71.6]\n",
      "   [42.8 89.6]\n",
      "   [57.2 84.2]]\n",
      "\n",
      "  [[44.6 80.6]\n",
      "   [53.6 84.2]\n",
      "   [51.8 84.2]\n",
      "   [ 5.  73.4]\n",
      "   [59.  87.8]\n",
      "   [59.  86. ]\n",
      "   [46.4 86. ]]\n",
      "\n",
      "  [[41.  69.8]\n",
      "   [53.6 64.4]\n",
      "   [10.4 53.6]\n",
      "   [53.6 68. ]\n",
      "   [77.  80.6]\n",
      "   [62.6 82.4]\n",
      "   [53.6 66.2]]\n",
      "\n",
      "  [[28.4 59. ]\n",
      "   [32.  53.6]\n",
      "   [35.6 64.4]\n",
      "   [55.4 75.2]\n",
      "   [50.  68. ]\n",
      "   [53.6 75.2]\n",
      "   [32.  62.6]]]\n",
      "\n",
      "\n",
      " [[[48.2 73.4]\n",
      "   [57.2 68. ]\n",
      "   [42.8 80.6]\n",
      "   [57.2 71.6]\n",
      "   [46.4 71.6]\n",
      "   [42.8 89.6]\n",
      "   [57.2 84.2]]\n",
      "\n",
      "  [[44.6 80.6]\n",
      "   [53.6 84.2]\n",
      "   [51.8 84.2]\n",
      "   [59.  73.4]\n",
      "   [ 8.6 87.8]\n",
      "   [59.  86. ]\n",
      "   [46.4 86. ]]\n",
      "\n",
      "  [[41.  69.8]\n",
      "   [53.6 64.4]\n",
      "   [30.2 53.6]\n",
      "   [53.6 68. ]\n",
      "   [77.  80.6]\n",
      "   [62.6 82.4]\n",
      "   [53.6 66.2]]\n",
      "\n",
      "  [[28.4 59. ]\n",
      "   [32.  53.6]\n",
      "   [35.6 64.4]\n",
      "   [55.4 75.2]\n",
      "   [50.  68. ]\n",
      "   [53.6 75.2]\n",
      "   [32.  62.6]]]\n",
      "\n",
      "\n",
      " [[[42.8 73.4]\n",
      "   [57.2 68. ]\n",
      "   [42.8 80.6]\n",
      "   [57.2 71.6]\n",
      "   [46.4 71.6]\n",
      "   [42.8 89.6]\n",
      "   [57.2 84.2]]\n",
      "\n",
      "  [[44.6 80.6]\n",
      "   [53.6 84.2]\n",
      "   [51.8 84.2]\n",
      "   [ 8.6 73.4]\n",
      "   [59.  87.8]\n",
      "   [59.  86. ]\n",
      "   [46.4 86. ]]\n",
      "\n",
      "  [[41.  69.8]\n",
      "   [53.6 64.4]\n",
      "   [30.2 53.6]\n",
      "   [53.6 68. ]\n",
      "   [77.  80.6]\n",
      "   [62.6 82.4]\n",
      "   [53.6 66.2]]\n",
      "\n",
      "  [[28.4 59. ]\n",
      "   [32.  53.6]\n",
      "   [35.6 64.4]\n",
      "   [55.4 75.2]\n",
      "   [50.  68. ]\n",
      "   [53.6 75.2]\n",
      "   [32.  62.6]]]]\n"
     ]
    }
   ],
   "source": [
    "#  formula F = (C × 9/5) + 32 \n",
    "print(f'Temp data in Fahrenheit:\\n{temp*(9/5)+32}')"
   ]
  },
  {
   "cell_type": "raw",
   "id": "68bb4a55",
   "metadata": {},
   "source": [
    "20. Sort the above data in descending order on the basis of weekly average for the month of Dec."
   ]
  },
  {
   "cell_type": "code",
   "execution_count": 19,
   "id": "4a4febad",
   "metadata": {},
   "outputs": [
    {
     "name": "stdout",
     "output_type": "stream",
     "text": [
      "Dec month average weekly temp in descending order: [18.  17.5 15.4 11.8]\n"
     ]
    }
   ],
   "source": [
    "# temp[1] iterate dec months data \n",
    "# calculate the average min & max temp weekly in Dec\n",
    "avg=np.mean(temp[1],axis=1)\n",
    "\n",
    "# calculate  overall average weekly temp\n",
    "avg2=np.mean(avg,axis=1) \n",
    "\n",
    "# sort and print the result in descending order\n",
    "print(f'Dec month average weekly temp in descending order: {np.round(np.sort(avg2)[::-1],1)}')"
   ]
  },
  {
   "cell_type": "raw",
   "id": "f7c94d13",
   "metadata": {},
   "source": [
    "21. Sort the temp of the first three days of each month in descending order on the basis of overall average for the whole winter."
   ]
  },
  {
   "cell_type": "code",
   "execution_count": 124,
   "id": "3155cffb",
   "metadata": {
    "collapsed": true
   },
   "outputs": [
    {
     "name": "stdout",
     "output_type": "stream",
     "text": [
      "[15.82738095 13.58333333 13.45833333 13.45833333 13.08333333]\n"
     ]
    }
   ],
   "source": [
    "#selecting the temp of the first three days of each month\n",
    "temp_3days=temp[:,:,:3] \n",
    "\n",
    "x=np.mean(temp_3days,axis=2) # calculate 3 days avg weekly temp\n",
    "y=np.mean(x,axis=1) # calculate each 3 days avg weekly temp\n",
    "z=np.mean(y,axis=1) # calculate 3 days avg weekly temp for each month\n",
    "\n",
    "ovral_mean=np.mean(temp[1:4]) # calculate overall avg temp of wintere\n",
    "base=np.append(z,ovral_mean) # adding base value into array \n",
    "\n",
    "print(np.sort(base)[::-1]) # print in descending order"
   ]
  },
  {
   "cell_type": "raw",
   "id": "e7b39c0e",
   "metadata": {},
   "source": [
    "22. Create an array that stores the difference between the min and max temp for each day in all the winter months."
   ]
  },
  {
   "cell_type": "code",
   "execution_count": 102,
   "id": "13054b19",
   "metadata": {
    "collapsed": true
   },
   "outputs": [
    {
     "name": "stdout",
     "output_type": "stream",
     "text": [
      "Difference Between Dilay temperatures: \n",
      " [[[[17]\n",
      "   [ 6]\n",
      "   [21]\n",
      "   [ 8]\n",
      "   [14]\n",
      "   [26]\n",
      "   [15]]\n",
      "\n",
      "  [[20]\n",
      "   [17]\n",
      "   [18]\n",
      "   [36]\n",
      "   [13]\n",
      "   [ 5]\n",
      "   [24]]\n",
      "\n",
      "  [[16]\n",
      "   [ 6]\n",
      "   [13]\n",
      "   [ 8]\n",
      "   [ 4]\n",
      "   [ 5]\n",
      "   [ 7]]\n",
      "\n",
      "  [[17]\n",
      "   [12]\n",
      "   [16]\n",
      "   [11]\n",
      "   [ 6]\n",
      "   [ 6]\n",
      "   [17]]]\n",
      "\n",
      "\n",
      " [[[15]\n",
      "   [ 6]\n",
      "   [21]\n",
      "   [ 8]\n",
      "   [14]\n",
      "   [26]\n",
      "   [15]]\n",
      "\n",
      "  [[20]\n",
      "   [17]\n",
      "   [18]\n",
      "   [38]\n",
      "   [16]\n",
      "   [15]\n",
      "   [22]]\n",
      "\n",
      "  [[16]\n",
      "   [ 6]\n",
      "   [24]\n",
      "   [ 8]\n",
      "   [ 2]\n",
      "   [11]\n",
      "   [ 7]]\n",
      "\n",
      "  [[17]\n",
      "   [12]\n",
      "   [16]\n",
      "   [11]\n",
      "   [10]\n",
      "   [12]\n",
      "   [17]]]\n",
      "\n",
      "\n",
      " [[[14]\n",
      "   [ 6]\n",
      "   [21]\n",
      "   [ 8]\n",
      "   [14]\n",
      "   [26]\n",
      "   [15]]\n",
      "\n",
      "  [[20]\n",
      "   [17]\n",
      "   [18]\n",
      "   [ 8]\n",
      "   [44]\n",
      "   [15]\n",
      "   [22]]\n",
      "\n",
      "  [[16]\n",
      "   [ 6]\n",
      "   [13]\n",
      "   [ 8]\n",
      "   [ 2]\n",
      "   [11]\n",
      "   [ 7]]\n",
      "\n",
      "  [[17]\n",
      "   [12]\n",
      "   [16]\n",
      "   [11]\n",
      "   [10]\n",
      "   [12]\n",
      "   [17]]]\n",
      "\n",
      "\n",
      " [[[17]\n",
      "   [ 6]\n",
      "   [21]\n",
      "   [ 8]\n",
      "   [14]\n",
      "   [26]\n",
      "   [15]]\n",
      "\n",
      "  [[20]\n",
      "   [17]\n",
      "   [18]\n",
      "   [36]\n",
      "   [16]\n",
      "   [15]\n",
      "   [22]]\n",
      "\n",
      "  [[16]\n",
      "   [ 6]\n",
      "   [13]\n",
      "   [ 8]\n",
      "   [ 2]\n",
      "   [11]\n",
      "   [ 7]]\n",
      "\n",
      "  [[17]\n",
      "   [12]\n",
      "   [16]\n",
      "   [11]\n",
      "   [10]\n",
      "   [12]\n",
      "   [17]]]]\n"
     ]
    }
   ],
   "source": [
    "# store the difference between the temp\n",
    "diff=(temp[:,:,:,1]-temp[:,:,:,0]).reshape(4,4,7,1) # reshape it as the same as base array\n",
    "print('Difference Between Dilay temperatures: \\n',diff)"
   ]
  },
  {
   "cell_type": "raw",
   "id": "c585ec20",
   "metadata": {},
   "source": [
    "23. Find and store the difference between the max temp of two consecutive days for each month of winter season."
   ]
  },
  {
   "cell_type": "code",
   "execution_count": 145,
   "id": "d9e81af5",
   "metadata": {
    "collapsed": true
   },
   "outputs": [
    {
     "name": "stdout",
     "output_type": "stream",
     "text": [
      "[-3, 7, -5, 0, 10, -3, 2, 0, -6, 8, -1, 0, -3, -6, 8, 7, 1, -9, -3, 6, 6, -4, 4, -7, -3, 7, -5, 0, 10, -3, 2, 0, -6, 8, -1, 0, -3, -6, 8, 7, 1, -9, -3, 6, 6, -4, 4, -7, -3, 7, -5, 0, 10, -3, 2, 0, -6, 8, -1, 0, -3, -6, 8, 7, 1, -9, -3, 6, 6, -4, 4, -7]\n"
     ]
    }
   ],
   "source": [
    "wint_maxdiff=[]\n",
    "for i in range(1,4):\n",
    "    for j in range(0,4):\n",
    "        for k in range(0,6):\n",
    "            x=temp[i,j,k+1,1]-temp[i,j,k,1]\n",
    "            wint_maxdiff.append(x)\n",
    "print(wint_maxdiff)"
   ]
  },
  {
   "cell_type": "raw",
   "id": "3d800a23",
   "metadata": {},
   "source": [
    "24. Find and store the difference between the minimum temp of two consecutive days for each month of the winter season"
   ]
  },
  {
   "cell_type": "code",
   "execution_count": 167,
   "id": "8c2c8fed",
   "metadata": {
    "collapsed": true
   },
   "outputs": [
    {
     "name": "stdout",
     "output_type": "stream",
     "text": [
      "[6, -8, 8, -6, -2, 8, 5, -1, -26, 30, 0, -7, 7, -24, 24, 13, -8, -5, 2, 2, 11, -3, 2, -12, 5, -8, 8, -6, -2, 8, 5, -1, 4, -28, 28, -7, 7, -13, 13, 13, -8, -5, 2, 2, 11, -3, 2, -12, 8, -8, 8, -6, -2, 8, 5, -1, -24, 28, 0, -7, 7, -13, 13, 13, -8, -5, 2, 2, 11, -3, 2, -12]\n"
     ]
    }
   ],
   "source": [
    "wint_mindiff=[]\n",
    "for i in range(1,4):\n",
    "    for j in range(0,4):\n",
    "        for k in range(0,6):\n",
    "            x=temp[i,j,k+1,0]-temp[i,j,k,0]\n",
    "            wint_mindiff.append(x)\n",
    "print(wint_mindiff)"
   ]
  },
  {
   "cell_type": "raw",
   "id": "009e2b4a",
   "metadata": {},
   "source": [
    "25. Create an array by combining the data present in arrays created in q.23 and q.24, to store the difference between the min and max temp of each day of all the months for the whole winter season, in a single array"
   ]
  },
  {
   "cell_type": "code",
   "execution_count": 162,
   "id": "9d5c850b",
   "metadata": {
    "collapsed": true
   },
   "outputs": [
    {
     "data": {
      "text/plain": [
       "array([[ -3,   7,  -5,   0,  10,  -3,   2,   0,  -6,   8,  -1,   0,  -3,\n",
       "         -6,   8,   7,   1,  -9,  -3,   6,   6,  -4,   4,  -7,  -3,   7,\n",
       "         -5,   0,  10,  -3,   2,   0,  -6,   8,  -1,   0,  -3,  -6,   8,\n",
       "          7,   1,  -9,  -3,   6,   6,  -4,   4,  -7,  -3,   7,  -5,   0,\n",
       "         10,  -3,   2,   0,  -6,   8,  -1,   0,  -3,  -6,   8,   7,   1,\n",
       "         -9,  -3,   6,   6,  -4,   4,  -7],\n",
       "       [  6,  -8,   8,  -6,  -2,   8,   5,  -1, -26,  30,   0,  -7,   7,\n",
       "        -24,  24,  13,  -8,  -5,   2,   2,  11,  -3,   2, -12,   5,  -8,\n",
       "          8,  -6,  -2,   8,   5,  -1,   4, -28,  28,  -7,   7, -13,  13,\n",
       "         13,  -8,  -5,   2,   2,  11,  -3,   2, -12,   8,  -8,   8,  -6,\n",
       "         -2,   8,   5,  -1, -24,  28,   0,  -7,   7, -13,  13,  13,  -8,\n",
       "         -5,   2,   2,  11,  -3,   2, -12]])"
      ]
     },
     "execution_count": 162,
     "metadata": {},
     "output_type": "execute_result"
    }
   ],
   "source": [
    "array=np.array((wint_maxdiff,wint_mindiff))\n",
    "array"
   ]
  }
 ],
 "metadata": {
  "kernelspec": {
   "display_name": "Python 3 (ipykernel)",
   "language": "python",
   "name": "python3"
  },
  "language_info": {
   "codemirror_mode": {
    "name": "ipython",
    "version": 3
   },
   "file_extension": ".py",
   "mimetype": "text/x-python",
   "name": "python",
   "nbconvert_exporter": "python",
   "pygments_lexer": "ipython3",
   "version": "3.8.10"
  }
 },
 "nbformat": 4,
 "nbformat_minor": 5
}
